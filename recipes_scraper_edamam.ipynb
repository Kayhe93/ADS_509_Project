{
 "cells": [
  {
   "cell_type": "code",
   "execution_count": 32,
   "metadata": {
    "id": "xzAbmLScpqpZ"
   },
   "outputs": [],
   "source": [
    "import requests\n",
    "import csv"
   ]
  },
  {
   "cell_type": "code",
   "execution_count": 33,
   "metadata": {},
   "outputs": [
    {
     "data": {
      "text/html": [
       "<div>\n",
       "<style scoped>\n",
       "    .dataframe tbody tr th:only-of-type {\n",
       "        vertical-align: middle;\n",
       "    }\n",
       "\n",
       "    .dataframe tbody tr th {\n",
       "        vertical-align: top;\n",
       "    }\n",
       "\n",
       "    .dataframe thead th {\n",
       "        text-align: right;\n",
       "    }\n",
       "</style>\n",
       "<table border=\"1\" class=\"dataframe\">\n",
       "  <thead>\n",
       "    <tr style=\"text-align: right;\">\n",
       "      <th></th>\n",
       "      <th>0</th>\n",
       "    </tr>\n",
       "  </thead>\n",
       "  <tbody>\n",
       "    <tr>\n",
       "      <th>0</th>\n",
       "      <td>Salt</td>\n",
       "    </tr>\n",
       "    <tr>\n",
       "      <th>1</th>\n",
       "      <td>Pepper</td>\n",
       "    </tr>\n",
       "    <tr>\n",
       "      <th>2</th>\n",
       "      <td>Olive oil</td>\n",
       "    </tr>\n",
       "    <tr>\n",
       "      <th>3</th>\n",
       "      <td>Garlic</td>\n",
       "    </tr>\n",
       "    <tr>\n",
       "      <th>4</th>\n",
       "      <td>Onion</td>\n",
       "    </tr>\n",
       "    <tr>\n",
       "      <th>...</th>\n",
       "      <td>...</td>\n",
       "    </tr>\n",
       "    <tr>\n",
       "      <th>87</th>\n",
       "      <td>Dijon mustard</td>\n",
       "    </tr>\n",
       "    <tr>\n",
       "      <th>88</th>\n",
       "      <td>Chili powder</td>\n",
       "    </tr>\n",
       "    <tr>\n",
       "      <th>89</th>\n",
       "      <td>Turmeric</td>\n",
       "    </tr>\n",
       "    <tr>\n",
       "      <th>90</th>\n",
       "      <td>Shrimp</td>\n",
       "    </tr>\n",
       "    <tr>\n",
       "      <th>91</th>\n",
       "      <td>Cloves</td>\n",
       "    </tr>\n",
       "  </tbody>\n",
       "</table>\n",
       "<p>92 rows × 1 columns</p>\n",
       "</div>"
      ],
      "text/plain": [
       "                0\n",
       "0            Salt\n",
       "1          Pepper\n",
       "2       Olive oil\n",
       "3          Garlic\n",
       "4           Onion\n",
       "..            ...\n",
       "87  Dijon mustard\n",
       "88   Chili powder\n",
       "89       Turmeric\n",
       "90         Shrimp\n",
       "91         Cloves\n",
       "\n",
       "[92 rows x 1 columns]"
      ]
     },
     "execution_count": 33,
     "metadata": {},
     "output_type": "execute_result"
    }
   ],
   "source": [
    "unique_ingredients = pd.DataFrame(['Salt', 'Pepper', 'Olive oil', 'Garlic', 'Onion', 'Tomato', 'Chicken', 'Beef',\n",
    "                                   'Pasta', 'Rice', 'Eggs', 'Milk', 'Butter', 'Flour', 'Sugar', 'Baking powder',\n",
    "                                   'Baking soda', 'Cumin', 'Coriander', 'Paprika', 'Thyme', 'Rosemary', 'Bay leaves',\n",
    "                                    'Cinnamon', 'Nutmeg', 'Ginger', 'Soy sauce', 'Fish sauce', 'Worcestershire sauce',\n",
    "                                    'Vinegar', 'Mustard', 'Ketchup', 'Mayonnaise', 'Hot sauce', 'Honey', 'Maple syrup',\n",
    "                                    'Lemon', 'Lime', 'Cilantro', 'Basil', 'Parsley', 'Dill', 'Chives', 'Parmesan cheese',\n",
    "                                    'Cheddar cheese', 'Mozzarella cheese', 'Feta cheese', 'Yogurt', 'Sour cream', 'Heavy cream',\n",
    "                                    'Tomato sauce', 'Canned tomatoes', 'Broth (chicken or vegetable)', 'Beans', 'Lentils',\n",
    "                                    'Quinoa', 'Potatoes', 'Carrots', 'Bell peppers', 'Zucchini', 'Spinach', 'Broccoli',\n",
    "                                    'Cauliflower', 'Mushrooms', 'Green beans', 'Avocado', 'Corn', 'Peas', 'Oats', 'Peanut butter',\n",
    "                                    'Almonds', 'Walnuts', 'Sesame seeds', 'Sunflower seeds', 'Canned tuna', 'Canned salmon', \n",
    "                                    'Salmon fillets', 'Ground turkey', 'Ground pork', 'Sausages', 'Tofu', 'Canned chickpeas',\n",
    "                                    'Coconut milk', 'Curry paste', 'Sesame oil', 'Red wine vinegar', 'White wine vinegar', \n",
    "                                    'Dijon mustard', 'Chili powder', 'Turmeric', 'Shrimp', 'Cloves'])\n",
    "\n",
    "unique_ingredients"
   ]
  },
  {
   "cell_type": "code",
   "execution_count": 34,
   "metadata": {},
   "outputs": [
    {
     "name": "stdout",
     "output_type": "stream",
     "text": [
      "Recipes saved to all_recipes.csv\n"
     ]
    }
   ],
   "source": [
    "def recipe_search(ingredients):\n",
    "    app_id = 'd885a755'  # Replace with your Edamam API app ID\n",
    "    app_key = 'ff353938975143cfd227e416c1a3fb1d'  # Replace with your Edamam API app key\n",
    "    recipes = []\n",
    "    for ingredient in ingredients:\n",
    "        result = requests.get(\n",
    "            'https://api.edamam.com/search?q={}&app_id={}&app_key={}'.format(ingredient, app_id, app_key)\n",
    "        )\n",
    "        data = result.json()\n",
    "        recipes.extend(data.get('hits', []))\n",
    "    return recipes\n",
    "\n",
    "def save_to_csv(recipes, ingredients):\n",
    "    if recipes:\n",
    "        file_name = \"all_recipes.csv\"\n",
    "\n",
    "        with open(file_name, mode='a', newline='', encoding='utf-8') as file:\n",
    "            writer = csv.writer(file)\n",
    "            writer.writerow(['Recipe', 'URL', 'Ingredients'])\n",
    "\n",
    "            for recipe in recipes:\n",
    "                recipe_info = recipe['recipe']\n",
    "                recipe_name = recipe_info['label']\n",
    "                recipe_url = recipe_info['url']\n",
    "                ingredients = \"\\n\".join(recipe_info['ingredientLines'])\n",
    "                writer.writerow([recipe_name, recipe_url, ingredients])\n",
    "                writer.writerow([])\n",
    "\n",
    "        print(f\"Recipes saved to {file_name}\")\n",
    "    else:\n",
    "        print(\"No recipes found\")\n",
    "\n",
    "def run():\n",
    "    ingredients = unique_ingredients\n",
    "    results = recipe_search(ingredients)\n",
    "    save_to_csv(results, ingredients)\n",
    "\n",
    "if __name__ == \"__main__\":\n",
    "    run()\n"
   ]
  }
 ],
 "metadata": {
  "colab": {
   "provenance": []
  },
  "kernelspec": {
   "display_name": "Python 3 (ipykernel)",
   "language": "python",
   "name": "python3"
  },
  "language_info": {
   "codemirror_mode": {
    "name": "ipython",
    "version": 3
   },
   "file_extension": ".py",
   "mimetype": "text/x-python",
   "name": "python",
   "nbconvert_exporter": "python",
   "pygments_lexer": "ipython3",
   "version": "3.11.3"
  }
 },
 "nbformat": 4,
 "nbformat_minor": 1
}
